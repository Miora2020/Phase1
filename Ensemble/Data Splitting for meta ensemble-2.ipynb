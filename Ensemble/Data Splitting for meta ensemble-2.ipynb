{
 "cells": [
  {
   "cell_type": "code",
   "execution_count": null,
   "metadata": {},
   "outputs": [],
   "source": [
    "import pandas as pd\n",
    "import numpy as np\n",
    "from sklearn.preprocessing import StandardScaler\n",
    "from sklearn.cross_validation import train_test_split\n",
    "from sklearn.cross_validation import KFold, cross_val_score\n",
    "from sklearn.metrics import classification_report,accuracy_score\n",
    "from sklearn.metrics import roc_auc_score,roc_curve,recall_score,\n",
    "from sklearn.metrics import confusion_matrix,precision_recall_curve,auc\n",
    "from sklearn.model_selection import GridSearchCV\n",
    "import warnings\n",
    "warnings.filterwarnings(\"ignore\")\n",
    "from sklearn.utils import shuffle\n",
    "\n",
    "\"\"\"For Credit Card Fraud Data\"\"\"\n",
    "\n",
    "data = pd.read_csv(\"creditcard.csv\")\n",
    "data['normAmount'] = StandardScaler().fit_transform(data['Amount'].values.reshape(-1, 1))\n",
    "data = data.drop(['Time','Amount'],axis=1)\n",
    "X = data.iloc[:,data.columns != 'Class']\n",
    "Y = data.iloc[:,data.columns == 'Class']\n",
    "X_train,X_testf,Y_train,Y_testf = train_test_split(X,Y,test_size=0.20,random_state=21, stratify=Y)\n",
    "train = pd.concat([X_train,Y_train],axis=1)\n",
    "train = shuffle(train)\n",
    "test = pd.concat([X_testf,Y_testf],axis=1)\n",
    "test = shuffle(test)\n",
    "train.to_csv('train2.csv',index=False)\n",
    "test.to_csv('test2.csv',index=False)\n",
    "\n",
    "\"\"\"For The Abalone Data\"\"\"\n",
    "data = pd.read_csv('abalone.csv')\n",
    "neg =data[data[\"Class\"]=='negative']\n",
    "pos = data[data[\"Class\"]!='negative']\n",
    "pos[\"Class\"]=1\n",
    "neg[\"Class\"]=0\n",
    "data = pd.concat([pos,neg],axis=0)\n",
    "data = shuffle(data)\n",
    "X = data.iloc[:,:-1]\n",
    "X = pd.get_dummies(X)\n",
    "Y = data.iloc[:,-1]\n",
    "X_train,X_testf,Y_train,Y_testf = train_test_split(X,Y,\n",
    "                                                   test_size=0.30,\n",
    "                                                   random_state=101, \n",
    "                                                   stratify=Y)\n",
    "train = pd.concat([X_train,Y_train],axis=1)\n",
    "train = shuffle(train)\n",
    "test = pd.concat([X_testf,Y_testf],axis=1)\n",
    "test = shuffle(test)\n",
    "train.to_csv('train2.csv',index=False)\n",
    "test.to_csv('test2.csv',index=False)"
   ]
  }
 ],
 "metadata": {
  "kernelspec": {
   "display_name": "Python 3",
   "language": "python",
   "name": "python3"
  },
  "language_info": {
   "codemirror_mode": {
    "name": "ipython",
    "version": 3
   },
   "file_extension": ".py",
   "mimetype": "text/x-python",
   "name": "python",
   "nbconvert_exporter": "python",
   "pygments_lexer": "ipython3",
   "version": "3.6.5"
  }
 },
 "nbformat": 4,
 "nbformat_minor": 2
}
